{
 "cells": [
  {
   "cell_type": "code",
   "execution_count": 1,
   "metadata": {},
   "outputs": [
    {
     "name": "stdout",
     "output_type": "stream",
     "text": [
      "Once deleted, variables cannot be recovered. Proceed (y/[n])? y\n"
     ]
    }
   ],
   "source": [
    "% reset\n",
    "% config InlineBackend.figure_format = 'retina'\n",
    "\n",
    "% matplotlib inline\n",
    "\n",
    "# our imports\n",
    "import pandas as pd\n",
    "import numpy as np\n",
    "import seaborn as sns\n",
    "import matplotlib.pyplot as plt\n",
    "import patsy\n",
    "\n",
    "import statsmodels.api as sm\n",
    "from scipy.stats import ttest_ind\n",
    "from matplotlib import rcParams\n",
    "\n",
    "import geocoder\n",
    "import folium\n",
    "from haversine import haversine\n",
    "# import pyshp\n",
    "# import shapefile\n",
    "\n",
    "\n",
    "\n",
    "# rcParams['figure.figsize'] = 8, 6\n",
    "# rcParams['font.family'] = 'sans-serif'\n",
    "# rcParams['font.sans-serif'] = ['Tahoma']\n",
    "# sns.set(style='whitegrid', context ='paper')"
   ]
  },
  {
   "cell_type": "code",
   "execution_count": 2,
   "metadata": {},
   "outputs": [
    {
     "name": "stdout",
     "output_type": "stream",
     "text": [
      "      community  comm_pop  crime  crimerate\n",
      "0        SanRNC     42779   1201   0.028075\n",
      "1        SanMDS     15748   1478   0.093853\n",
      "2        SanPCF     39849   5677   0.142463\n",
      "3        SanGRE     45697   4579   0.100204\n",
      "4        SanCLA     77873   4388   0.056348\n",
      "6        SanDOW     31759   9937   0.312888\n",
      "8        SanMSS     18947   4131   0.218029\n",
      "9        SanMII     13816   1317   0.095324\n",
      "10       SanSER     20959   1092   0.052102\n",
      "11       SanUPT     37279   3985   0.106897\n",
      "12       SanTIR     30447   1165   0.038263\n",
      "13       SanSCI     19323    642   0.033225\n",
      "16       SanPEN     38269   2407   0.062897\n",
      "17       SanMIR     72761   3254   0.044722\n",
      "21       SanOTM     15140   1025   0.067701\n",
      "23       SanNAV     48313   2489   0.051518\n",
      "25       SanMSH      4659   1208   0.259283\n",
      "26       SanGRT     15461   1289   0.083371\n",
      "28       SanSNS     27869   2563   0.091966\n",
      "29       SanMDC     74062   6246   0.084335\n",
      "31       SanMDW      5829   1784   0.306056\n",
      "32       SanSOT     57358   4969   0.086631\n",
      "33       SanENC     47361   3006   0.063470\n",
      "34       SanSKY     67273   2553   0.037950\n",
      "37       SanBAL       249    560   2.248996\n",
      "47       SanKER      6417   2002   0.311984\n",
      "48       SanMIS      2076   1254   0.604046\n",
      "49       SanPAC      6507    110   0.016905\n",
      "55       SanCAR     33580   1080   0.032162\n",
      "58       SanRES        61    611  10.016393\n",
      "74       SanOCN     12953   2897   0.223655\n",
      "78       SanUNV     63098   2529   0.040081\n",
      "86       SanTRR      7725    194   0.025113\n",
      "87       SanMID     37348   3194   0.085520\n",
      "93       SanTOR      6597    469   0.071093\n",
      "113      SanMIL     15015    284   0.018914\n",
      "128      SanLAJ     29018   2186   0.075333\n",
      "132      SanLIN     31648   1759   0.055580\n",
      "134      SanBAR      4259    961   0.225640\n",
      "138      SanOAT     60544   2684   0.044331\n",
      "139      SanCOL     20794   1681   0.080841\n",
      "221      SanNCU       536     21   0.039179\n",
      "248      SanCRM     12021    526   0.043757\n",
      "264      SanSAB     11256    208   0.018479\n",
      "327      SanRAN     40096   1186   0.029579\n",
      "334      SanSAN       195     32   0.164103\n",
      "352      SanTOE      5015    112   0.022333\n",
      "365      SanOLD       832    349   0.419471\n",
      "367      SanMRM     11953    253   0.021166\n",
      "480      SanBLA      6653    134   0.020141\n",
      "885      SanRAO      2543     37   0.014550\n",
      "982      SanLOS       707     13   0.018388\n",
      "3665     SanTIJ       329     65   0.197568\n",
      "4620     SanDEL      1159     17   0.014668\n",
      "5322     SanVID       353     10   0.028329\n",
      "12532    SanFAR       729     16   0.021948\n",
      "{'SanRNC': 0.028074522546109072, 'SanMDS': 0.093853187706375407, 'SanPCF': 0.14246279705889733, 'SanGRE': 0.10020351445390288, 'SanCLA': 0.056348156613974035, 'SanDOW': 0.31288768538052203, 'SanMSS': 0.21802923945743388, 'SanMII': 0.095324261725535611, 'SanSER': 0.052101722410420347, 'SanUPT': 0.10689664422328925, 'SanTIR': 0.038263211482247837, 'SanSCI': 0.03322465455674585, 'SanPEN': 0.062896861689618222, 'SanMIR': 0.044721760283668449, 'SanOTM': 0.067701453104359308, 'SanNAV': 0.051518224908409745, 'SanMSH': 0.25928310796308218, 'SanGRT': 0.083371062673824464, 'SanSNS': 0.091965983709498003, 'SanMDC': 0.084334746563689875, 'SanMDW': 0.30605592726025049, 'SanSOT': 0.086631333031137764, 'SanENC': 0.063469943624501174, 'SanSKY': 0.037949846149272368, 'SanBAL': 2.248995983935743, 'SanKER': 0.31198379304971169, 'SanMIS': 0.60404624277456642, 'SanPAC': 0.01690487167665591, 'SanCAR': 0.03216200119118523, 'SanRES': 10.016393442622951, 'SanOCN': 0.22365475179495098, 'SanUNV': 0.04008050968334971, 'SanTRR': 0.02511326860841424, 'SanMID': 0.085519974295812359, 'SanTOR': 0.071092921024708197, 'SanMIL': 0.018914418914418914, 'SanLAJ': 0.075332552208973738, 'SanLIN': 0.055580131445904957, 'SanBAR': 0.2256398215543555, 'SanOAT': 0.044331395348837212, 'SanCOL': 0.080840627103972301, 'SanNCU': 0.039179104477611942, 'SanCRM': 0.043756759005074454, 'SanSAB': 0.018479033404406538, 'SanRAN': 0.02957901037509976, 'SanSAN': 0.1641025641025641, 'SanTOE': 0.022333000997008974, 'SanOLD': 0.41947115384615385, 'SanMRM': 0.021166234418137708, 'SanBLA': 0.020141289643769728, 'SanRAO': 0.014549744396382226, 'SanLOS': 0.018387553041018388, 'SanTIJ': 0.19756838905775076, 'SanDEL': 0.014667817083692839, 'SanVID': 0.028328611898016998, 'SanFAR': 0.02194787379972565}\n"
     ]
    },
    {
     "ename": "NameError",
     "evalue": "name 'counts_by_community' is not defined",
     "output_type": "error",
     "traceback": [
      "\u001b[0;31m---------------------------------------------------------------------------\u001b[0m",
      "\u001b[0;31mNameError\u001b[0m                                 Traceback (most recent call last)",
      "\u001b[0;32m<ipython-input-2-44bc9101435b>\u001b[0m in \u001b[0;36m<module>\u001b[0;34m()\u001b[0m\n\u001b[1;32m     28\u001b[0m \u001b[0;31m# seaborn.countplot(x='community', data=comm_pops)\u001b[0m\u001b[0;34m\u001b[0m\u001b[0;34m\u001b[0m\u001b[0m\n\u001b[1;32m     29\u001b[0m \u001b[0;31m# print(df.community.value_counts().index)\u001b[0m\u001b[0;34m\u001b[0m\u001b[0;34m\u001b[0m\u001b[0m\n\u001b[0;32m---> 30\u001b[0;31m \u001b[0msns\u001b[0m\u001b[0;34m.\u001b[0m\u001b[0mbarplot\u001b[0m\u001b[0;34m(\u001b[0m\u001b[0mx\u001b[0m\u001b[0;34m=\u001b[0m\u001b[0mcounts_by_community\u001b[0m\u001b[0;34m,\u001b[0m \u001b[0my\u001b[0m\u001b[0;34m=\u001b[0m\u001b[0mcounts_by_community\u001b[0m\u001b[0;34m.\u001b[0m\u001b[0mindex\u001b[0m\u001b[0;34m)\u001b[0m\u001b[0;34m\u001b[0m\u001b[0m\n\u001b[0m\u001b[1;32m     31\u001b[0m \u001b[0msns\u001b[0m\u001b[0;34m.\u001b[0m\u001b[0mplt\u001b[0m\u001b[0;34m.\u001b[0m\u001b[0mshow\u001b[0m\u001b[0;34m(\u001b[0m\u001b[0;34m)\u001b[0m\u001b[0;34m\u001b[0m\u001b[0m\n\u001b[1;32m     32\u001b[0m \u001b[0;34m\u001b[0m\u001b[0m\n",
      "\u001b[0;31mNameError\u001b[0m: name 'counts_by_community' is not defined"
     ]
    }
   ],
   "source": [
    "# import our incidents-100k dataset into a DataFrame\n",
    "df = pd.read_csv(\"incidents-100k.csv\")\n",
    "df.head()\n",
    "# Data Cleaning:\n",
    "# first remove any rows where the community is specified by NONE\n",
    "# next remove rows where the community population is specified by NONE\n",
    "df = df[df['community'] != 'NONE']\n",
    "df = df[df['comm_pop'] != 0]\n",
    "\n",
    "\n",
    "# determine the population rate per city and save in a new dataframe df_stats\n",
    "df_stats = df[['community','comm_pop']].drop_duplicates()\n",
    "# add a column 'crime' to df_stats that represents the raw count of crimes for that community \n",
    "# (raw counts are determined by the number of rows containing the community )\n",
    "df_stats['crime'] = df.groupby('community')['community'].transform('count')\n",
    "# add a column 'crimerate' to df_stats to normalize for the population\n",
    "df_stats['crimerate'] = df_stats['crime'] / df_stats['comm_pop']\n",
    "\n",
    "#use data from df_stats to get a dictionary where the keys are the community names and the values are the crime rates\n",
    "dict_crimerate = df_stats[['community', 'crimerate']].set_index('community')['crimerate'].to_dict()\n",
    "\n",
    "print(df_stats)\n",
    "print(dict_crimerate)\n",
    "\n",
    "# check that the distribution of crimes/comm_pop is normal\n",
    "\n",
    "# plotting in seaborn\n",
    "# seaborn.countplot(x='community', data=comm_pops)\n",
    "# print(df.community.value_counts().index)\n",
    "sns.barplot(x=counts_by_community, y=counts_by_community.index)\n",
    "sns.plt.show()\n",
    "\n",
    "# sns.distplot(x=counts_by_pops.index, y=counts_by_pops)\n",
    "# sns.plt.show()\n",
    "\n",
    "counts_by_community.plot(kind=\"bar\")\n",
    "f1 = plt.show()\n",
    "\n",
    "counts_by_community.plot(kind=\"hist\")\n",
    "# counts_by_community.plot(kind=\"bar\")\n",
    "f2 = plt.gcf()"
   ]
  },
  {
   "cell_type": "code",
   "execution_count": 3,
   "metadata": {},
   "outputs": [
    {
     "ename": "AttributeError",
     "evalue": "'NoneType' object has no attribute 'gca'",
     "output_type": "error",
     "traceback": [
      "\u001b[0;31m---------------------------------------------------------------------------\u001b[0m",
      "\u001b[0;31mAttributeError\u001b[0m                            Traceback (most recent call last)",
      "\u001b[0;32m<ipython-input-3-cf29ed559e4b>\u001b[0m in \u001b[0;36m<module>\u001b[0;34m()\u001b[0m\n\u001b[0;32m----> 1\u001b[0;31m \u001b[0;32massert\u001b[0m \u001b[0mf1\u001b[0m\u001b[0;34m.\u001b[0m\u001b[0mgca\u001b[0m\u001b[0;34m(\u001b[0m\u001b[0;34m)\u001b[0m\u001b[0;34m.\u001b[0m\u001b[0mhas_data\u001b[0m\u001b[0;34m(\u001b[0m\u001b[0;34m)\u001b[0m\u001b[0;34m\u001b[0m\u001b[0m\n\u001b[0m\u001b[1;32m      2\u001b[0m \u001b[0;32massert\u001b[0m \u001b[0mf2\u001b[0m\u001b[0;34m.\u001b[0m\u001b[0mgca\u001b[0m\u001b[0;34m(\u001b[0m\u001b[0;34m)\u001b[0m\u001b[0;34m.\u001b[0m\u001b[0mhas_data\u001b[0m\u001b[0;34m(\u001b[0m\u001b[0;34m)\u001b[0m\u001b[0;34m\u001b[0m\u001b[0m\n",
      "\u001b[0;31mAttributeError\u001b[0m: 'NoneType' object has no attribute 'gca'"
     ]
    }
   ],
   "source": [
    "assert f1.gca().has_data()\n",
    "assert f2.gca().has_data()"
   ]
  },
  {
   "cell_type": "code",
   "execution_count": null,
   "metadata": {
    "collapsed": true
   },
   "outputs": [],
   "source": [
    "# converted the \"incidents-100k.csv\" dataset into a geojson file using\n",
    "# convertcsv.com webclient\n",
    "\n",
    "SD_LONG_LAT = (32.7157, 117.1611)\n",
    "community_geography = r'incidents-geo.geojson'\n",
    "\n",
    "crime_by_comm = pd.DataFrame(df['community'].value_counts().astype(float))\n",
    "crime_by_comm.to_json('crime_counts.json')\n",
    "crime_by_comm = crime_by_comm.reset_index()\n",
    "print(crime_by_comm)\n",
    "\n",
    "crime_by_comm.columns = ['community', 'number']\n",
    "\n",
    "# creation of the choropleth\n",
    "choro_crime_comm = folium.Map(location=SD_LONG_LAT, zoom_start=10)\n",
    "choro_crime_comm.geo_json(geo_path = community_geography, data_out = 'crime_counts.json',\n",
    "                          data = crime_by_comm, columns = ['community', 'number'], \n",
    "                          key_on = 'feature.properties.COMMUNITY', fill_color = 'YlOrRd', \n",
    "                          fill_opacity = 0.7, line_opacity = 0.2, \n",
    "                          legend_name = 'Number of incidents per Community')\n",
    "display(choro_crime_comm)\n"
   ]
  },
  {
   "cell_type": "code",
   "execution_count": null,
   "metadata": {
    "collapsed": true
   },
   "outputs": [],
   "source": [
    "# 2012 length --> 143182 for incidents 57\n",
    "# 2012 length --> 13923 for incidents-100k.csv\n",
    "# df_2012=df.loc[df['year']== 2012]\n",
    "# df_2012['type'].value_counts()\n",
    "# j = 0\n",
    "# points = []\n",
    "# for i in range (1000):\n",
    "#    latitude = df['lat'][j]\n",
    "#    longitude = df['lon'][j]\n",
    "#    points.append(tuple([latitude,longitude]))\n",
    "#    j = j + 1\n",
    "#    g = geocoder.google([latitude, longitude], method='reverse')\n",
    "#    if (g.state != 'CA'):\n",
    "#        pass\n",
    "#    else:     "
   ]
  },
  {
   "cell_type": "code",
   "execution_count": null,
   "metadata": {
    "collapsed": true
   },
   "outputs": [],
   "source": [
    "# df['lat']\n",
    "csv_file = 'abc_licenses_sdcounty.csv'\n",
    "df2 = pd.read_csv(csv_file)"
   ]
  },
  {
   "cell_type": "code",
   "execution_count": null,
   "metadata": {
    "collapsed": true
   },
   "outputs": [],
   "source": [
    "points2 = []\n",
    "j=0\n",
    "for i in range (1000):\n",
    "    latitude = df2['lat'][j]\n",
    "    longitude = df2['lon'][j]\n",
    "    points2.append(tuple([latitude,longitude]))\n",
    "    j = j + 1\n",
    "    #g = geocoder.google([latitude, longitude], method='reverse')\n",
    "    #if (g.state!='CA'):\n",
    "    #    pass\n",
    "    #else:\n",
    "    "
   ]
  },
  {
   "cell_type": "code",
   "execution_count": null,
   "metadata": {
    "collapsed": true
   },
   "outputs": [],
   "source": [
    "# j = 0\n",
    "# lat = 0\n",
    "# lon = 0\n",
    "# zoom_start=2\n",
    "# m = folium.Map(location=[lat, lon], zoom_start=zoom_start)\n",
    "# if (len(points)<(len(points2))):\n",
    "#    length=(len(points))\n",
    "# else:\n",
    "#    length=(len(points2))\n",
    "# for i in range(length):\n",
    "#    coord_1 = points[j]\n",
    "#    coord_2 = points2[j]\n",
    "#    kw = dict(fill_color='red', radius=5)\n",
    "#    kw2 = dict(fill_color='blue' ,radius=4)\n",
    "#    c0 = folium.CircleMarker(coord_1, **kw)\n",
    "#    c1 = folium.CircleMarker(coord_2, **kw2)\n",
    "#    for c in [c0,c1]:\n",
    "#        m.add_child(c)\n",
    "#    j = j + 1\n",
    "\n",
    "# folium.PolyLine(points, color=\"yellow\", weight=1.5, opacity=1).add_to(m)\n",
    "# m"
   ]
  },
  {
   "cell_type": "code",
   "execution_count": null,
   "metadata": {
    "collapsed": true
   },
   "outputs": [],
   "source": [
    "# building a choropleth map from our incidents-100k.csv dataset\n",
    "# converted from csv to geojson format using the ogr2ogr web client, ogre.acd4gis.com \n",
    "# (too resource costly for notebook to handle)\n",
    "\n",
    "# using the aggregate 2012 incidents shapefile to establish map boundaries \n",
    "# http://geospatialpython.com/2013/07/shapefile-to-geojson.html\n",
    "# read in the shapefile using shapefile.Reader\n",
    "\n",
    "# read_shp = shapefile.Reader(\"crime-incidents-2012.shp\")\n",
    "# shp_fields = read_shp.fields[1:]\n",
    "# field_names = [field[0] for field in shp_fields]\n",
    "# processShape = []\n",
    "# for shape_records in read_shp.shapeRecords():\n",
    "#        atr = dict(zip(shp_fields, shape_records.record))\n",
    "#        geom = shape_records.shape.__geo_interface__\n",
    "#        processShape.append(dict(type=\"Feature\", geometry=geom, properties=atr)) \n",
    "   \n",
    "# # write the GeoJSON file\n",
    "# from json import dumps\n",
    "# geojson = open(\"pyshp-demo.json\", \"w\")\n",
    "# geojson.write(dumps({\"type\": \"FeatureCollection\", \"features\": processShape}, indent=2) + \"\\n\")\n",
    "# geojson.close()"
   ]
  },
  {
   "cell_type": "code",
   "execution_count": null,
   "metadata": {
    "collapsed": true
   },
   "outputs": [],
   "source": []
  },
  {
   "cell_type": "code",
   "execution_count": null,
   "metadata": {
    "collapsed": true
   },
   "outputs": [],
   "source": []
  },
  {
   "cell_type": "code",
   "execution_count": null,
   "metadata": {
    "collapsed": true
   },
   "outputs": [],
   "source": []
  }
 ],
 "metadata": {
  "kernelspec": {
   "display_name": "Python 3",
   "language": "python",
   "name": "python3"
  },
  "language_info": {
   "codemirror_mode": {
    "name": "ipython",
    "version": 3
   },
   "file_extension": ".py",
   "mimetype": "text/x-python",
   "name": "python",
   "nbconvert_exporter": "python",
   "pygments_lexer": "ipython3",
   "version": "3.6.0"
  }
 },
 "nbformat": 4,
 "nbformat_minor": 2
}
