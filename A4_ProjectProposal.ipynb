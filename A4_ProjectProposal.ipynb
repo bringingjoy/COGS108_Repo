{
 "cells": [
  {
   "cell_type": "markdown",
   "metadata": {},
   "source": [
    "# COGS 108 - Assignment 4: Project Proposal"
   ]
  },
  {
   "cell_type": "markdown",
   "metadata": {},
   "source": [
    "## Important\n",
    "\n",
    "- Make sure all group member (3-5 people) are listed in the group members section.\n",
    "- ONE, and only one, member of your group should upload this notebook to TritonED. \n",
    "- Each member of the group will receive the same grade on this assignment. \n",
    "- Keep the file name the same: submit the file 'A4_ProjectProposal.ipynb'"
   ]
  },
  {
   "cell_type": "markdown",
   "metadata": {},
   "source": [
    "## Overview"
   ]
  },
  {
   "cell_type": "markdown",
   "metadata": {},
   "source": [
    "Read the project description, and detailed instructions for this assignment, in the 'A4_ProjectOutlineAndProposal' pdf."
   ]
  },
  {
   "cell_type": "markdown",
   "metadata": {},
   "source": [
    "## Group Members: Fill in the Student ID's of each group member here\n",
    "- A14218086\n",
    "- A13064043\n",
    "- A14204486"
   ]
  },
  {
   "cell_type": "markdown",
   "metadata": {},
   "source": [
    "### Research Question\n",
    "\n",
    "What is your research question? (1-2 sentences)"
   ]
  },
  {
   "cell_type": "markdown",
   "metadata": {},
   "source": [
    "What is the correlation between crime rates and alcohol availability in San Diego County? Is there a relationship between the rates of particular crimes (ie. drug/alcohol violations, theft/larceny, DUI, vandalism, sex crimes, etc) and the number of establishments holding ABC licenses in the community/district?"
   ]
  },
  {
   "cell_type": "markdown",
   "metadata": {},
   "source": [
    "### Hypothesis\n",
    "\n",
    "What is your prediction (2-3 sentences)"
   ]
  },
  {
   "cell_type": "markdown",
   "metadata": {},
   "source": [
    "We predict that the relationship between a city's crime rate and its amenities will depend on the amenity being analyzed. Specifically, we anticipate that there will be a discernable negative correlation between the crime rate and the number of Starbucks shops, hospitals, and colleges; a weak correlation between the crime rate and the number of McDonalds stores and Walmart stores; and a discernable positive correlation between the crime rate and the number of prisons and RV parks."
   ]
  },
  {
   "cell_type": "markdown",
   "metadata": {},
   "source": [
    "### Dataset(s)\n",
    "\n",
    "What data will you use to answer your question? Describe the dataset in terms of number of observations, what kind of features it contains, etc. You must use at least one dataset containing at least approximately 1000 observations (if your data are smaller but you feel they are sufficient, email Prof. Voytek). You are welcome (and in fact recommended) to find multiple datasets! If you do so, describe each one, and briefly explain how you will combine them together. "
   ]
  },
  {
   "cell_type": "markdown",
   "metadata": {},
   "source": [
    "** CRIME INCIDENCES IN SD COUNTY: **\n",
    "Contains processed crime incidents for SD county based on data supplied by SANDAG from 2007-2013, partitioned by year. Includes the type of crime (drug/alcohol violations, theft/larceny, DUI, robbery, sex crimes, etc.), neighborhood, community, city, latitude and longitude fields (in addition to various date/time fields which might not pertain to us)\n",
    "**Datasets:**\n",
    "- incidents-100k.csv (100,000 random incidences over 2007-2013)\n",
    "- incidents-5y.csv (from years 2008-2012, about 750K incidences)\n",
    "- Link: http://data.sandiegodata.org/dataset/clarinova_com-crime-incidents-casnd-7ba4-extract\n",
    "\n",
    "**ABC LICENSES IN SD COUNTY**\n",
    "Contains all current, valid Alcohol and Beverage Control Licenses in the county, with valid latitude and longitude fields\n",
    "**Dataset**: abs-licenses-casnd.csv\n",
    "- Contains 4988 entries\n",
    "- Link: http://data.sandiegodata.org/dataset/clarinova_com-alcohol_licenses-casnd-429e-extract\n",
    "\n",
    "\n",
    "- Dataset Name: crime_in_us.xls\n",
    "- Link to the dataset: https://ucr.fbi.gov/crime-in-the-u.s/2015/crime-in-the-u.s.-2015/tables/table-8/table_8_offenses_known_to_law_enforcement_by_state_by_city_2015.xls/view\n",
    "- Number of observations: 9395\n",
    "\n",
    "\n",
    "The features in this dataset include the state, city, population, and the types of crime (violent crime, murder and nonnegligent manslaugher, rape (revised definition) 1, rape (legacy definition) 2, robbery aggravated assault, property crime, buglary, larceny-theft, motor-vehicle theft, and arson). The frequency of each type of crime is listed for each city.\n",
    "\n",
    "\n",
    "- Dataset Name: colleges_in_us.csv\n",
    "- Link to the dataset: https://ope.ed.gov/accreditation/GetDownloadFile.aspx\n",
    "- Number of observations: 43969\n",
    "\n",
    "\n",
    "The relevant features for our analyses in this dataset include the college name, zip code, city, state, and whether it is accredited or not. \n",
    "\n",
    "\n",
    "- Dataset Name: hospitals_in_us.csv\n",
    "- Link to the dataset: https://hifld-dhs-gii.opendata.arcgis.com/datasets/e13641c764344b8ab7dfd41831e56940_0\n",
    "- Number of observations: 7332\n",
    "\n",
    "1-2 sentences describing the dataset. \n",
    "This dataset is high dimensional and has several features- such as name, NAICS code, and owner- which we do not plan on using in our analyses. The relevant features are the city, state, county, status (OPEN or CLOSED), latitude, longitude, and zip code.  \n",
    "\n",
    "\n",
    "- Dataset Name: walmarts_in_us_and_canada.csv\n",
    "- Link to the dataset: http://www.poi-factory.com/node/25560\n",
    "- Number of observations: 6723\n",
    "\n",
    "1-2 sentences describing the dataset.\n",
    "There are 4 features in the dataset- the latitude, the longitude, the type of store and general location (TYPE, CITY, STATE ABBREVIATION), and the full address.\n",
    "\n",
    "\n",
    "- Dataset Name: mcdonalds_in_us_and_canada.csv\n",
    "- Link to the dataset: http://www.poi-factory.com/node/11154\n",
    "- Number of observations: 15674\n",
    "\n",
    "1-2 sentences describing the dataset. \n",
    "There are 4 features in the dataset- the latitude, the longitude, the type of store and general location (TYPE, CITY, STATE ABBREVIATION), and the full address.\n",
    "\n",
    "If you plan to use multiple datasets, add 1-2 sentences about how you plan to combine these datasets.\n",
    "We will cross-reference the first dataset, crime_in_us.xls, with each of the datasets describing a particular amenity or service above. That way, we will be able to analyze for each city the relationship between its crime levels and its prevalance (or lack therefore) of a particular amentiy."
   ]
  },
  {
   "cell_type": "markdown",
   "metadata": {},
   "source": [
    "### Background & Prior Work\n",
    "\n",
    "Why is this question of interest, what background information led you to your hypothesis, and why is this important?\n",
    "\n",
    "Find some relevant prior work, and reference them. Even if you think you have a totally novel question, find the most similar prior work you can, and discuss how it relates to your project. \n",
    "\n",
    "References can be research publications, but they need not be: blogs, github repositories, company websites, etc., are viable references if they are relevant to your project.\n",
    "\n",
    "(2-3 paragraphs, including at least 2 references)"
   ]
  },
  {
   "cell_type": "markdown",
   "metadata": {},
   "source": [
    "Alcohol is arguable the most socially acceptable drug in San Diego, however it has the potential to negatively impact individuals and communities in various ways. One of the most important of these is crime, and leads us to wonder if alcohol abundance or restriction might impact its abuse and interrelation with crime.\n",
    "\n",
    "According to the National Council on Alcoholism and Drug Dependence, \"alcohol and drugs are implicated in an estimated 80% of offenses leading to incarceration in the United States such as domestic violence, driving while intoxicated, property offenses, drug offenses, and public-order offenses.\" We want to examine how San Diego county is affected by the legal availability of alcohol (ie. from liquor markets, grocery stores, restaurants, hotels) and the rates of crimes in the area (particularly those commonly associated with excessive alcohol use; the Alcohol Rehab Guide lists robbery, sexual assault, child abuses as examples).\n",
    "\n",
    "Referencess:\n",
    "- 1) National Council on Alcoholism and Drug Dependence: https://www.ncadd.org/about-addiction/alcohol-drugs-and-crime\n",
    "- 2) Alcohol Rehab Guide on Alcohol-related crime: https://www.alcoholrehabguide.org/alcohol/crimes/"
   ]
  },
  {
   "cell_type": "markdown",
   "metadata": {},
   "source": [
    "### Proposed Methods\n",
    "\n",
    "What methods will you use to analyze your data?\n",
    "\n",
    "- How 'clean' is the data? To the extent that it requires cleaning, how will you do so?\n",
    "- How will you analyze the data? Be as specific as you can. Briefly mention any pre-processing steps that are required for your methods (for example, checking data distributions and performing any transformations that may be required). Include a brief outline of how you will apply your chosen method(s). \n",
    "- What do you plan to report? Briefly mention any key visualizations you plan to create, and/or the kind of result you will be able to report that addresses your question (this could be, for example, the outcome of some statistical test(s), prediction error on a model, a model fit parameter, etc.).\n",
    "- Include a list of packages you expect to use for you project. If you plan to use packages we have not used in class, add a very brief description about them (a few words is sufficient). "
   ]
  },
  {
   "cell_type": "markdown",
   "metadata": {},
   "source": [
    "*Fill in your proposed methods information here:*\n",
    "\n",
    "*Data Cleaning*\n",
    "Our SD Count Crime dataset contains latitude/longitude values for each entry, in addition to community, neighborhood, and city fields, which we will use as geographical \"districts\". Furthermore, 5% of crimes are not geocoded, so these rows will be removed prior to analysis. \n",
    "\n",
    "*Data Analysis (1-2 paragraphs)*\n",
    "We will compute pair-wise correlations between \n",
    "\n",
    "*What to report (2-3 sentences)*\n",
    "We would like to present the data as a geospatial map, which shows areas with high amounts of crime, which we can then break down, and look at what public amenities are near that area if any.\n",
    "\n",
    "\n",
    "Packages we plan to use:\n",
    "1) pandas\n",
    "2) numpy\n",
    "3) matplotlib.pyplot\n",
    "4) scipy\n",
    "5) seaborn\n",
    "6) "
   ]
  },
  {
   "cell_type": "markdown",
   "metadata": {},
   "source": [
    "### Discussion\n",
    "\n",
    "What are the pitfalls and potential confounds of your data and/or methods? For example, how might biases in your data sources or analyses influence your interpretations? What will you do if you methods don't work and/or your hypotheses are wrong?\n",
    "\n",
    "(2-3 paragraphs)"
   ]
  },
  {
   "cell_type": "markdown",
   "metadata": {},
   "source": [
    "    There are several confounds and biases in our data sources and analyses. We will first start with our data sources. For one, most of our datasets- with a few exceptions- simply tell us where an amenity is located. The mere existence of an amenity, however, does not necessarily translate to how valuable the amenity is. That is, it does not inform us how often the resource is used by the community, how well-managed the resource is, and how the resource compares to other resources similar to it. For example, there may be three colleges in a single city, but that may not be as beneficial as having one college (with significantly higher educational standards) in a single city. To alleviate this concern we do try to limit our analyses to well-recognized brands (such as Starbucks, Walmart, and McDonalds) when examining consumerism. All three stores have consistent quality standards across their franchises. Our focus on uniformity, on the other hand, does also raise a different pitfall. There may be some local mom-and-pop stores, for example, which are widely popular in the area but that we do not include in our data. Additionally, stores like Starbucks and Walmart are more likely to congregate in a larger city where there is an increased foot traffic than in a smaller town. While the biases that results from looking at larger chains is not desirable, it is not hugely problematic. We never do claim that Starbucks is to represent all coffee shops or that Walmart is to reprsent all grocery stores in a community. We limit our correlation results to that between the crime rate and the frequency of that particular store. While that may not be as encompassing as we desire, it still does yield a question of interest.\n",
    "    As for our analyses, one pitfall is that we treat cities as independent entities. In other words, when we examine crime in a city, we only examine the amenities in that very same city. We do not look at the amenities of neighboring cities or those in the same county when deriving our results. The drawback is that there may be resources which are in actuality shared among nearby cities, so that multiple cities benefit from them. As it is difficult to take accessibility and openess of an amentiy into account, we do hope that this trickle over effect is minor. Also, amenities are not a standalone variable but are influenced by other factors, which include the people themselves and how much crime is present in a city to begin with.\n",
    "    We are confident that at the very least we will be able to determine the correlation coefficient values between the crime rate and every amenity and generate scatter matrices for each amenity. If our hypothesis is wrong and our end result is that there is little to no correlation for every single amenity, then we will still present those results. Having weak correlation coefficients (while maybe not the most exciting conclusion) is still a valid one. We will, however, reevaluate and try to understand why the results turned out the way they did. If necessary, we may also look to more traditional measures of crime rates (such as educational level) and see how that is correlated with the crime rate and then in turn see how that is correlated with the presence of amenities in a given city."
   ]
  }
 ],
 "metadata": {
  "kernelspec": {
   "display_name": "Python 3",
   "language": "python",
   "name": "python3"
  },
  "language_info": {
   "codemirror_mode": {
    "name": "ipython",
    "version": 3
   },
   "file_extension": ".py",
   "mimetype": "text/x-python",
   "name": "python",
   "nbconvert_exporter": "python",
   "pygments_lexer": "ipython3",
   "version": "3.6.0"
  }
 },
 "nbformat": 4,
 "nbformat_minor": 2
}
